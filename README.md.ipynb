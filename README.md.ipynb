{
 "cells": [
  {
   "cell_type": "markdown",
   "id": "2562a46e",
   "metadata": {},
   "source": [
    "# Pewlett_Hackard_Analysis"
   ]
  },
  {
   "cell_type": "markdown",
   "id": "a4ce0f77",
   "metadata": {},
   "source": [
    "## Overview of Analysis\n",
    "\n",
    "The purpose of this exercise is to utilize SQL to accomplish two major goals:\n",
    "- Determine the number of retiring employees by title \n",
    "- Determine the employees eligble for mentorship program"
   ]
  },
  {
   "cell_type": "markdown",
   "id": "ddc9d694",
   "metadata": {},
   "source": [
    "## Results"
   ]
  },
  {
   "cell_type": "markdown",
   "id": "2abd68bb",
   "metadata": {},
   "source": [
    "### Retiring Employees by Title\n",
    "\n",
    "The first ask was to create a Retirement Titles table, filtered on employess born between January 1, 1952 and December 31, 1955 - ensuring the table contains only the most recent title of each employee.\n",
    "\n",
    "Key Observations:\n",
    "1. There is a total of 72,458 current employees born between January 1, 1952 and December 31, 1955\n",
    "2. Seven unique titles cover the span of these employees including: Senior Engineer, Senior Staff, Engineer, Staff, Technical Leader, Assistant Engineer, Manager\n",
    "3. The Senior Engineer role contains the largest amount of retiring employees - 25,916 or 35.8%\n",
    "4. The Manager role contains the least amount of retiring employees - 2 or < 1.0%\n",
    "\n",
    "Table: \n",
    "\n",
    "![Retiring_titles.png](Retiring_titles.png)"
   ]
  },
  {
   "cell_type": "markdown",
   "id": "af8d8d8a",
   "metadata": {},
   "source": [
    "### Employees Eligible for Mentorship Program\n",
    "\n",
    "The second ask was to create a list of current employees eligible for a Mentorship Program - ensuring their birthdate falls between January 1, 1965 and December 31, 1965. A sampling of this data table is below, and iincludes a total of 1,549 current employees born between January 1, 1965 and December 31, 1965 and considered eligible for the Mentorship Program. \n",
    "\n",
    "Link to Table:\n",
    "\n",
    "[Data/mentorship_eligibility.csv](https://github.com/havgirl/Pewlett-Hackard-Analysis/blob/df8b2f4ca4f2c69dfbed95ec91fcab42081eb34f/Data/mentorship_eligibility.csv)\n"
   ]
  },
  {
   "cell_type": "markdown",
   "id": "ea8545a1",
   "metadata": {},
   "source": [
    "## Summary\n",
    "\n",
    "In summary, Pewlett-Hackard must prepare an action plan to eliminate or backfill the positions of the 72,458 current employees eligible for retirement.  Additionally, now that they have identified candidates eligible for the Mentorship Program, they should evaluate new hires (mentees) for the program."
   ]
  },
  {
   "cell_type": "markdown",
   "id": "ade619a9",
   "metadata": {},
   "source": [
    "### Succession Planning for Retirees\n",
    "\n",
    "To assist Pewlett_Hackard with a list of potential candidates to backfill retirees (based solely on age/experience) we updated our data set to evaluate how many employees were born between January 1, 1956 and December 31, 1960. Using this criteria solely - Pewlett Hackard has 110,884 potential candiates to pull from.\n",
    "\n",
    "Table:\n",
    "\n",
    "![Succession_titles.png](Succession_titles.png)\n"
   ]
  },
  {
   "cell_type": "markdown",
   "id": "3075ae56",
   "metadata": {},
   "source": [
    "### Employees Eligible for Mentee Program\n",
    "\n",
    "The goal of this exercise is to look at employees hired after 1995 to pilot the Mentorship Program, of which 91,758 meet the criteria.\n",
    "\n",
    "Link to Table:\n",
    "\n",
    "[Data/mentee_eligibility.csv](https://github.com/havgirl/Pewlett-Hackard-Analysis/blob/df8b2f4ca4f2c69dfbed95ec91fcab42081eb34f/Data/mentee_eligibility.csv)\n"
   ]
  },
  {
   "cell_type": "code",
   "execution_count": null,
   "id": "704eeaad",
   "metadata": {},
   "outputs": [],
   "source": []
  },
  {
   "cell_type": "code",
   "execution_count": null,
   "id": "bd4a2593",
   "metadata": {},
   "outputs": [],
   "source": []
  }
 ],
 "metadata": {
  "kernelspec": {
   "display_name": "PythonData",
   "language": "python",
   "name": "pythondata"
  },
  "language_info": {
   "codemirror_mode": {
    "name": "ipython",
    "version": 3
   },
   "file_extension": ".py",
   "mimetype": "text/x-python",
   "name": "python",
   "nbconvert_exporter": "python",
   "pygments_lexer": "ipython3",
   "version": "3.7.13"
  }
 },
 "nbformat": 4,
 "nbformat_minor": 5
}
